{
 "cells": [
  {
   "cell_type": "code",
   "execution_count": 13,
   "id": "d44238d4",
   "metadata": {},
   "outputs": [
    {
     "name": "stdout",
     "output_type": "stream",
     "text": [
      "382416733822.dkr.ecr.us-east-1.amazonaws.com/linear-learner:1\n"
     ]
    }
   ],
   "source": [
    "import os\n",
    "import boto3\n",
    "import sagemaker\n",
    "import pandas as pd\n",
    "from sagemaker import get_execution_role\n",
    "from sagemaker.inputs import TrainingInput\n",
    "from sagemaker.image_uris import retrieve\n",
    "\n",
    "sess = sagemaker.Session()\n",
    "role = get_execution_role()\n",
    "bucket = sess.default_bucket()\n",
    "training_image = retrieve(\"linear-learner\", boto3.Session().region_name, \"1\")\n",
    "print(training_image)"
   ]
  },
  {
   "cell_type": "code",
   "execution_count": 14,
   "id": "129c8369",
   "metadata": {},
   "outputs": [],
   "source": [
    "%store -r X_train\n",
    "%store -r X_test\n",
    "%store -r X_val\n",
    "%store -r Y_train\n",
    "%store -r Y_test\n",
    "%store -r Y_val"
   ]
  },
  {
   "cell_type": "markdown",
   "source": [
    "The very first thing we need to do is get back a reference of the training inputs. If we uploaded to our S3 then we would only get a reference."
   ],
   "metadata": {
    "collapsed": false
   }
  },
  {
   "cell_type": "code",
   "execution_count": 15,
   "id": "da210820",
   "metadata": {},
   "outputs": [],
   "source": [
    "data_dir = \"data/\"\n",
    "if not os.path.exists(data_dir):\n",
    "    os.makedirs(data_dir)\n",
    "\n",
    "prefix = \"boston-dataset\"\n",
    "pd.concat([Y_train, X_train], axis=1).to_csv(\n",
    "    os.path.join(data_dir, \"train.csv\"), header=False, index=False\n",
    ")\n",
    "pd.concat([Y_val, X_val], axis=1).to_csv(\n",
    "    os.path.join(data_dir, \"validation.csv\"), header=False, index=False\n",
    ")\n",
    "\n",
    "val_location = sess.upload_data(os.path.join(data_dir, \"validation.csv\"), key_prefix=prefix)\n",
    "train_location = sess.upload_data(os.path.join(data_dir, \"train.csv\"), key_prefix=prefix)\n",
    "s3_input_train = TrainingInput(s3_data=train_location, content_type=\"text/csv\")\n",
    "s3_input_validation = TrainingInput(s3_data=val_location, content_type=\"text/csv\")\n"
   ]
  },
  {
   "cell_type": "code",
   "execution_count": 16,
   "id": "dae4344f",
   "metadata": {},
   "outputs": [
    {
     "data": {
      "text/plain": [
       "<sagemaker.inputs.TrainingInput at 0x7fddf37deeb8>"
      ]
     },
     "execution_count": 16,
     "metadata": {},
     "output_type": "execute_result"
    }
   ],
   "source": [
    "s3_input_train"
   ]
  },
  {
   "cell_type": "markdown",
   "id": "7adc5200",
   "metadata": {
    "pycharm": {
     "name": "#%% md\n"
    }
   },
   "source": [
    "Now we need to do the same as before and configure the training job!"
   ]
  },
  {
   "cell_type": "code",
   "source": [
    "\n",
    "\n",
    "\n",
    "model = sagemaker.estimator.Estimator(\n",
    "    training_image,\n",
    "    role,\n",
    "    instance_count=1,\n",
    "    instance_type=\"ml.m5.large\",\n",
    "    output_path=\"s3://{}/{}/output\".format(sess.default_bucket(), prefix),\n",
    "    sagemaker_session=sess,\n",
    ")\n",
    "model.set_hyperparameters(\n",
    "    feature_dim=X_train.shape[1], predictor_type=\"regressor\", mini_batch_size=X_train.shape[0]\n",
    ")\n"
   ],
   "metadata": {
    "collapsed": false,
    "pycharm": {
     "name": "#%%\n"
    }
   },
   "execution_count": null,
   "outputs": []
  },
  {
   "cell_type": "markdown",
   "source": [
    "And now the beautiful part. In SageMaker you only need configure a HyperparameterTuner class sending the ranges dict. This dict specifies for each tunable parameter what are the ranges, not all algorithms allow you to tune whatever parameter.\n",
    "Finally we define an objective metric and the optimization we want to do. If this were a built-in algorithm, then we would need to specify the metric from a regex on the stdout"
   ],
   "metadata": {
    "collapsed": false
   }
  },
  {
   "cell_type": "code",
   "execution_count": 18,
   "id": "1f318e25",
   "metadata": {},
   "outputs": [],
   "source": [
    "from time import gmtime, strftime\n",
    "from sagemaker.tuner import (\n",
    "    IntegerParameter,\n",
    "    CategoricalParameter,\n",
    "    ContinuousParameter,\n",
    "    HyperparameterTuner,\n",
    ")\n",
    "\n",
    "tuning_job_name = \"linear-boston-{}\".format(strftime(\"%d-%H-%M-%S\", gmtime()))\n",
    "\n",
    "hyperparameter_ranges = {\n",
    "    \"learning_rate\": ContinuousParameter(0.00001, 1.0),\n",
    "    \"l1\": ContinuousParameter(0.00001, 1.0)\n",
    "}\n",
    "\n",
    "objective_metric_name = \"validation:objective_loss:final\"\n",
    "\n",
    "tuner = HyperparameterTuner(\n",
    "    model,\n",
    "    objective_metric_name,\n",
    "    hyperparameter_ranges,\n",
    "    objective_type=\"Minimize\",\n",
    "    max_jobs=4,\n",
    "    max_parallel_jobs=2,\n",
    ")\n"
   ]
  },
  {
   "cell_type": "markdown",
   "source": [
    "Now we are ready. We just fit the tuner and wait for it to run, the result will be many trained models, one per\n"
   ],
   "metadata": {
    "collapsed": false
   }
  },
  {
   "cell_type": "code",
   "execution_count": 19,
   "id": "2f44168a",
   "metadata": {},
   "outputs": [
    {
     "name": "stdout",
     "output_type": "stream",
     "text": [
      ".................................................!\n",
      "!\n"
     ]
    }
   ],
   "source": [
    "tuner.fit(\n",
    "    {\"train\": s3_input_train, \"validation\": s3_input_validation},\n",
    "    job_name=tuning_job_name,\n",
    "    include_cls_metadata=False,\n",
    ")\n",
    "tuner.wait()\n"
   ]
  },
  {
   "cell_type": "markdown",
   "source": [
    "SageMaker exposes a HyperparameterTuningJobAnalytics class to get back a dataframe with information on the job! Let's analise it."
   ],
   "metadata": {
    "collapsed": false
   }
  },
  {
   "cell_type": "code",
   "execution_count": 20,
   "id": "5a1cf999",
   "metadata": {},
   "outputs": [
    {
     "data": {
      "text/html": [
       "<div>\n",
       "<style scoped>\n",
       "    .dataframe tbody tr th:only-of-type {\n",
       "        vertical-align: middle;\n",
       "    }\n",
       "\n",
       "    .dataframe tbody tr th {\n",
       "        vertical-align: top;\n",
       "    }\n",
       "\n",
       "    .dataframe thead th {\n",
       "        text-align: right;\n",
       "    }\n",
       "</style>\n",
       "<table border=\"1\" class=\"dataframe\">\n",
       "  <thead>\n",
       "    <tr style=\"text-align: right;\">\n",
       "      <th></th>\n",
       "      <th>l1</th>\n",
       "      <th>learning_rate</th>\n",
       "      <th>TrainingJobName</th>\n",
       "      <th>TrainingJobStatus</th>\n",
       "      <th>FinalObjectiveValue</th>\n",
       "      <th>TrainingStartTime</th>\n",
       "      <th>TrainingEndTime</th>\n",
       "      <th>TrainingElapsedTimeSeconds</th>\n",
       "    </tr>\n",
       "  </thead>\n",
       "  <tbody>\n",
       "    <tr>\n",
       "      <th>0</th>\n",
       "      <td>0.065174</td>\n",
       "      <td>0.000045</td>\n",
       "      <td>linear-boston-07-11-56-22-002-69ce0863</td>\n",
       "      <td>Completed</td>\n",
       "      <td>1.062063</td>\n",
       "      <td>2021-09-07 11:59:06+00:00</td>\n",
       "      <td>2021-09-07 12:00:03+00:00</td>\n",
       "      <td>57.0</td>\n",
       "    </tr>\n",
       "    <tr>\n",
       "      <th>1</th>\n",
       "      <td>0.074492</td>\n",
       "      <td>0.018764</td>\n",
       "      <td>linear-boston-07-11-56-22-001-1796d7e1</td>\n",
       "      <td>Completed</td>\n",
       "      <td>0.424222</td>\n",
       "      <td>2021-09-07 11:59:16+00:00</td>\n",
       "      <td>2021-09-07 12:00:18+00:00</td>\n",
       "      <td>62.0</td>\n",
       "    </tr>\n",
       "  </tbody>\n",
       "</table>\n",
       "</div>"
      ],
      "text/plain": [
       "         l1  learning_rate                         TrainingJobName  \\\n",
       "0  0.065174       0.000045  linear-boston-07-11-56-22-002-69ce0863   \n",
       "1  0.074492       0.018764  linear-boston-07-11-56-22-001-1796d7e1   \n",
       "\n",
       "  TrainingJobStatus  FinalObjectiveValue         TrainingStartTime  \\\n",
       "0         Completed             1.062063 2021-09-07 11:59:06+00:00   \n",
       "1         Completed             0.424222 2021-09-07 11:59:16+00:00   \n",
       "\n",
       "            TrainingEndTime  TrainingElapsedTimeSeconds  \n",
       "0 2021-09-07 12:00:03+00:00                        57.0  \n",
       "1 2021-09-07 12:00:18+00:00                        62.0  "
      ]
     },
     "execution_count": 20,
     "metadata": {},
     "output_type": "execute_result"
    }
   ],
   "source": [
    "tuner_metrics = sagemaker.HyperparameterTuningJobAnalytics(tuning_job_name)\n",
    "tuner_metrics.dataframe().sort_values([\"FinalObjectiveValue\"], ascending=False).head(5)"
   ]
  },
  {
   "cell_type": "code",
   "execution_count": 21,
   "id": "30912909",
   "metadata": {},
   "outputs": [
    {
     "name": "stdout",
     "output_type": "stream",
     "text": [
      "The total training time is 0.03 hours\n"
     ]
    },
    {
     "data": {
      "text/plain": [
       "Completed    2\n",
       "Name: TrainingJobStatus, dtype: int64"
      ]
     },
     "execution_count": 21,
     "metadata": {},
     "output_type": "execute_result"
    }
   ],
   "source": [
    "total_time = tuner_metrics.dataframe()[\"TrainingElapsedTimeSeconds\"].sum() / 3600\n",
    "print(\"The total training time is {:.2f} hours\".format(total_time))\n",
    "tuner_metrics.dataframe()[\"TrainingJobStatus\"].value_counts()\n"
   ]
  },
  {
   "cell_type": "code",
   "execution_count": null,
   "id": "3bbf8076",
   "metadata": {},
   "outputs": [],
   "source": []
  },
  {
   "cell_type": "code",
   "execution_count": null,
   "id": "8224df66",
   "metadata": {},
   "outputs": [],
   "source": []
  },
  {
   "cell_type": "code",
   "execution_count": null,
   "id": "9abd20bd",
   "metadata": {},
   "outputs": [],
   "source": []
  }
 ],
 "metadata": {
  "kernelspec": {
   "display_name": "conda_tensorflow_p36",
   "language": "python",
   "name": "conda_tensorflow_p36"
  },
  "language_info": {
   "codemirror_mode": {
    "name": "ipython",
    "version": 3
   },
   "file_extension": ".py",
   "mimetype": "text/x-python",
   "name": "python",
   "nbconvert_exporter": "python",
   "pygments_lexer": "ipython3",
   "version": "3.6.13"
  }
 },
 "nbformat": 4,
 "nbformat_minor": 5
}