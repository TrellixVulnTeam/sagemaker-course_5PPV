{
 "cells": [
  {
   "cell_type": "markdown",
   "source": [
    "# Deploying multiple models (AB Testing)"
   ],
   "metadata": {
    "collapsed": false,
    "pycharm": {
     "name": "#%% md\n"
    }
   }
  },
  {
   "cell_type": "code",
   "execution_count": 2,
   "id": "ca2412c0",
   "metadata": {},
   "outputs": [],
   "source": [
    "from datetime import datetime, timedelta\n",
    "import time\n",
    "import os\n",
    "import boto3\n",
    "import re\n",
    "import json\n",
    "from sagemaker import get_execution_role, session\n",
    "from sagemaker.s3 import S3Downloader, S3Uploader\n",
    "\n",
    "region = boto3.Session().region_name\n",
    "role = get_execution_role()\n",
    "sm_session = session.Session(boto3.Session())\n",
    "sm = boto3.Session().client(\"sagemaker\")\n",
    "sm_runtime = boto3.Session().client(\"sagemaker-runtime\")\n",
    "\n",
    "# You can use a different bucket, but make sure the role you chose for this notebook\n",
    "# has the s3:PutObject permissions. This is the bucket into which the model artifacts will be uploaded\n",
    "bucket = sm_session.default_bucket()\n",
    "prefix = \"boston-dataset\""
   ]
  },
  {
   "cell_type": "markdown",
   "source": [
    "What we will do in this lab is to deploy one endpoint with 2 model instances, such that we choose the traffic allocation.\n",
    "Not only this shows how to deploy a model that was trained somewhere else, but also we show how to AB test models"
   ],
   "metadata": {
    "collapsed": false,
    "pycharm": {
     "name": "#%% md\n"
    }
   }
  },
  {
   "cell_type": "code",
   "execution_count": 3,
   "id": "e9af9aae",
   "metadata": {},
   "outputs": [
    {
     "name": "stderr",
     "output_type": "stream",
     "text": [
      "Defaulting to the only supported framework/algorithm version: 1. Ignoring framework/algorithm version: latest.\n",
      "Defaulting to the only supported framework/algorithm version: 1. Ignoring framework/algorithm version: latest.\n"
     ]
    },
    {
     "data": {
      "text/plain": [
       "'hpo-boston-2021-09-07-12-34-55'"
      ]
     },
     "execution_count": 3,
     "metadata": {},
     "output_type": "execute_result"
    }
   ],
   "source": [
    "from sagemaker.image_uris import retrieve\n",
    "\n",
    "model_name = None  # Choose unique names\n",
    "model_name2 = None    # Choose unique names\n",
    "model_url = None   # Here it will be the output of your training runs! You could store it in the other notebook if needed with %store\n",
    "model_url2 = None\n",
    "image_uri = retrieve(\"linear-learner\", boto3.Session().region_name, \"latest\")\n",
    "image_uri2 = retrieve(\"linear-learner\", boto3.Session().region_name, \"latest\")"
   ]
  },
  {
   "cell_type": "markdown",
   "source": [
    "The first step to deploy a model is to register it with the create_model method. Registering a model is the equivalent of determining it will pass to staging"
   ],
   "metadata": {
    "collapsed": false,
    "pycharm": {
     "name": "#%% md\n"
    }
   }
  },
  {
   "cell_type": "code",
   "execution_count": null,
   "outputs": [],
   "source": [
    "# Exercise, create both models to deploy\n"
   ],
   "metadata": {
    "collapsed": false,
    "pycharm": {
     "name": "#%%\n"
    }
   }
  },
  {
   "cell_type": "markdown",
   "source": [
    "Secondly, we need to create a Variant. A variant refers mainly to the model deployed in an image in an instance. It relates 1:1 to the autoscaling group for that model"
   ],
   "metadata": {
    "collapsed": false
   }
  },
  {
   "cell_type": "code",
   "execution_count": 6,
   "id": "56d2bd15",
   "metadata": {},
   "outputs": [
    {
     "data": {
      "text/plain": [
       "({'ModelName': 'linear-boston-2021-09-07-12-34-55',\n",
       "  'InstanceType': 'ml.m5.large',\n",
       "  'InitialInstanceCount': 1,\n",
       "  'VariantName': 'Variant1',\n",
       "  'InitialVariantWeight': 1},\n",
       " {'ModelName': 'hpo-boston-2021-09-07-12-34-55',\n",
       "  'InstanceType': 'ml.m5.large',\n",
       "  'InitialInstanceCount': 1,\n",
       "  'VariantName': 'Variant2',\n",
       "  'InitialVariantWeight': 1})"
      ]
     },
     "execution_count": 6,
     "metadata": {},
     "output_type": "execute_result"
    }
   ],
   "source": [
    "from sagemaker.session import production_variant\n",
    "\n",
    "# create the production variants. You can check the docs here: https://sagemaker.readthedocs.io/en/stable/api/utility/session.html\n",
    "variant1 = None  # FILLME\n",
    "variant2 = None\n",
    "\n",
    "(variant1, variant2)"
   ]
  },
  {
   "cell_type": "code",
   "source": [
    "Once we have a variant and a model we are ready to create the endpoint based on those variants.\n",
    "The endpoint name must be unique"
   ],
   "metadata": {
    "collapsed": false,
    "pycharm": {
     "name": "#%% md \n"
    }
   },
   "execution_count": null,
   "outputs": []
  },
  {
   "cell_type": "code",
   "execution_count": 7,
   "id": "2290f8b2",
   "metadata": {},
   "outputs": [
    {
     "name": "stdout",
     "output_type": "stream",
     "text": [
      "EndpointName=linear-boston-2021-09-07-12-38-12\n",
      "-------------!"
     ]
    },
    {
     "data": {
      "text/plain": [
       "'linear-boston-2021-09-07-12-38-12'"
      ]
     },
     "execution_count": 7,
     "metadata": {},
     "output_type": "execute_result"
    }
   ],
   "source": [
    "endpoint_name = f\"linear-boston-{datetime.now():%Y-%m-%d-%H-%M-%S}\"\n",
    "print(f\"EndpointName={endpoint_name}\")\n",
    "\n",
    "sm_session.endpoint_from_production_variants(\n",
    "    name=endpoint_name, production_variants=[variant1, variant2]\n",
    ")"
   ]
  },
  {
   "cell_type": "code",
   "execution_count": null,
   "outputs": [],
   "source": [
    "And to call it without the predictor interface, we can use the invoke_endpoint method. It expects a bytes, file, or RecordIO format\n",
    "Invoking the endpoint uses the low level API which is needed once you loose reference to the predictor object."
   ],
   "metadata": {
    "collapsed": false,
    "pycharm": {
     "name": "#%% md \n"
    }
   }
  },
  {
   "cell_type": "code",
   "execution_count": 43,
   "id": "99564d49",
   "metadata": {},
   "outputs": [
    {
     "data": {
      "text/html": [
       "<div>\n",
       "<style scoped>\n",
       "    .dataframe tbody tr th:only-of-type {\n",
       "        vertical-align: middle;\n",
       "    }\n",
       "\n",
       "    .dataframe tbody tr th {\n",
       "        vertical-align: top;\n",
       "    }\n",
       "\n",
       "    .dataframe thead th {\n",
       "        text-align: right;\n",
       "    }\n",
       "</style>\n",
       "<table border=\"1\" class=\"dataframe\">\n",
       "  <thead>\n",
       "    <tr style=\"text-align: right;\">\n",
       "      <th></th>\n",
       "      <th>score</th>\n",
       "    </tr>\n",
       "  </thead>\n",
       "  <tbody>\n",
       "    <tr>\n",
       "      <th>0</th>\n",
       "      <td>-0.297590</td>\n",
       "    </tr>\n",
       "    <tr>\n",
       "      <th>1</th>\n",
       "      <td>1.813267</td>\n",
       "    </tr>\n",
       "    <tr>\n",
       "      <th>2</th>\n",
       "      <td>0.255625</td>\n",
       "    </tr>\n",
       "    <tr>\n",
       "      <th>3</th>\n",
       "      <td>-0.010827</td>\n",
       "    </tr>\n",
       "    <tr>\n",
       "      <th>4</th>\n",
       "      <td>-0.591371</td>\n",
       "    </tr>\n",
       "    <tr>\n",
       "      <th>...</th>\n",
       "      <td>...</td>\n",
       "    </tr>\n",
       "    <tr>\n",
       "      <th>138</th>\n",
       "      <td>0.370642</td>\n",
       "    </tr>\n",
       "    <tr>\n",
       "      <th>139</th>\n",
       "      <td>0.670967</td>\n",
       "    </tr>\n",
       "    <tr>\n",
       "      <th>140</th>\n",
       "      <td>-1.053767</td>\n",
       "    </tr>\n",
       "    <tr>\n",
       "      <th>141</th>\n",
       "      <td>-0.031928</td>\n",
       "    </tr>\n",
       "    <tr>\n",
       "      <th>142</th>\n",
       "      <td>0.782485</td>\n",
       "    </tr>\n",
       "  </tbody>\n",
       "</table>\n",
       "<p>143 rows × 1 columns</p>\n",
       "</div>"
      ],
      "text/plain": [
       "        score\n",
       "0   -0.297590\n",
       "1    1.813267\n",
       "2    0.255625\n",
       "3   -0.010827\n",
       "4   -0.591371\n",
       "..        ...\n",
       "138  0.370642\n",
       "139  0.670967\n",
       "140 -1.053767\n",
       "141 -0.031928\n",
       "142  0.782485\n",
       "\n",
       "[143 rows x 1 columns]"
      ]
     },
     "execution_count": 43,
     "metadata": {},
     "output_type": "execute_result"
    }
   ],
   "source": [
    "%store -r X_test\n",
    "%store -r Y_test\n",
    "\n",
    "import pandas as pd\n",
    "import numpy as np\n",
    "import json\n",
    "\n",
    "test_set = pd.concat([X_test, Y_test], axis=1)\n",
    "payload = None # FILLME\n",
    "\n",
    "# Exercise, find out how to configure the payload to get a result from invoke_endpoint!\n",
    "response = sm_runtime.invoke_endpoint(EndpointName=endpoint_name, ContentType=\"text/csv\", Body=payload)\n",
    "\n",
    "# Exercise: Configure the response into a predictions pandas series.\n",
    "predictions = None #FILLME"
   ]
  },
  {
   "cell_type": "code",
   "execution_count": 49,
   "id": "307007e1",
   "metadata": {},
   "outputs": [],
   "source": [
    "comparison = pd.concat([predictions, Y_test.reset_index(drop=True)], axis=1)"
   ]
  },
  {
   "cell_type": "code",
   "execution_count": 52,
   "id": "a3956d85",
   "metadata": {},
   "outputs": [
    {
     "data": {
      "text/plain": [
       "53.99994625993155"
      ]
     },
     "execution_count": 52,
     "metadata": {},
     "output_type": "execute_result"
    }
   ],
   "source": [
    "np.sum((comparison['score'] - comparison['PRICE'])**2)\n"
   ]
  },
  {
   "cell_type": "code",
   "execution_count": null,
   "outputs": [],
   "source": [
    "We can specify the specific model to call behind the endpoint setting the variant name, this is extremely useful!"
   ],
   "metadata": {
    "collapsed": false,
    "pycharm": {
     "name": "#%% md \n"
    }
   }
  },
  {
   "cell_type": "code",
   "execution_count": 57,
   "id": "0759e80a",
   "metadata": {},
   "outputs": [],
   "source": [
    "# Exercise: Use the invoke_method as before, setting TargetVariant to the variant name. Get the predictions for both models behind the endpoint\n",
    "response_model1 = None # FILLME\n",
    "response_model2 = None # FILLME\n",
    "predictions_model1 =  None # FILLME\n",
    "predictions_model2 =  None # FILLME\n",
    "\n",
    "comparison = pd.concat([predictions_model1, predictions_model2, Y_test.reset_index(drop=True)], axis=1)\n"
   ]
  },
  {
   "cell_type": "code",
   "execution_count": 58,
   "id": "7d4d9afa",
   "metadata": {},
   "outputs": [
    {
     "data": {
      "text/html": [
       "<div>\n",
       "<style scoped>\n",
       "    .dataframe tbody tr th:only-of-type {\n",
       "        vertical-align: middle;\n",
       "    }\n",
       "\n",
       "    .dataframe tbody tr th {\n",
       "        vertical-align: top;\n",
       "    }\n",
       "\n",
       "    .dataframe thead th {\n",
       "        text-align: right;\n",
       "    }\n",
       "</style>\n",
       "<table border=\"1\" class=\"dataframe\">\n",
       "  <thead>\n",
       "    <tr style=\"text-align: right;\">\n",
       "      <th></th>\n",
       "      <th>score model 1</th>\n",
       "      <th>score model 2</th>\n",
       "      <th>PRICE</th>\n",
       "    </tr>\n",
       "  </thead>\n",
       "  <tbody>\n",
       "    <tr>\n",
       "      <th>0</th>\n",
       "      <td>-0.057428</td>\n",
       "      <td>-0.297590</td>\n",
       "      <td>-0.731324</td>\n",
       "    </tr>\n",
       "    <tr>\n",
       "      <th>1</th>\n",
       "      <td>1.473565</td>\n",
       "      <td>1.813267</td>\n",
       "      <td>2.985812</td>\n",
       "    </tr>\n",
       "    <tr>\n",
       "      <th>2</th>\n",
       "      <td>0.194408</td>\n",
       "      <td>0.255625</td>\n",
       "      <td>0.116048</td>\n",
       "    </tr>\n",
       "    <tr>\n",
       "      <th>3</th>\n",
       "      <td>-0.038954</td>\n",
       "      <td>-0.010827</td>\n",
       "      <td>-0.166409</td>\n",
       "    </tr>\n",
       "    <tr>\n",
       "      <th>4</th>\n",
       "      <td>-1.058822</td>\n",
       "      <td>-0.591371</td>\n",
       "      <td>-1.058974</td>\n",
       "    </tr>\n",
       "    <tr>\n",
       "      <th>...</th>\n",
       "      <td>...</td>\n",
       "      <td>...</td>\n",
       "      <td>...</td>\n",
       "    </tr>\n",
       "    <tr>\n",
       "      <th>138</th>\n",
       "      <td>0.500220</td>\n",
       "      <td>0.370642</td>\n",
       "      <td>0.161241</td>\n",
       "    </tr>\n",
       "    <tr>\n",
       "      <th>139</th>\n",
       "      <td>0.724937</td>\n",
       "      <td>0.670967</td>\n",
       "      <td>0.952121</td>\n",
       "    </tr>\n",
       "    <tr>\n",
       "      <th>140</th>\n",
       "      <td>-1.102085</td>\n",
       "      <td>-1.053767</td>\n",
       "      <td>-1.047676</td>\n",
       "    </tr>\n",
       "    <tr>\n",
       "      <th>141</th>\n",
       "      <td>0.039267</td>\n",
       "      <td>-0.031928</td>\n",
       "      <td>0.036960</td>\n",
       "    </tr>\n",
       "    <tr>\n",
       "      <th>142</th>\n",
       "      <td>0.954273</td>\n",
       "      <td>0.782485</td>\n",
       "      <td>1.550930</td>\n",
       "    </tr>\n",
       "  </tbody>\n",
       "</table>\n",
       "<p>143 rows × 3 columns</p>\n",
       "</div>"
      ],
      "text/plain": [
       "     score model 1  score model 2     PRICE\n",
       "0        -0.057428      -0.297590 -0.731324\n",
       "1         1.473565       1.813267  2.985812\n",
       "2         0.194408       0.255625  0.116048\n",
       "3        -0.038954      -0.010827 -0.166409\n",
       "4        -1.058822      -0.591371 -1.058974\n",
       "..             ...            ...       ...\n",
       "138       0.500220       0.370642  0.161241\n",
       "139       0.724937       0.670967  0.952121\n",
       "140      -1.102085      -1.053767 -1.047676\n",
       "141       0.039267      -0.031928  0.036960\n",
       "142       0.954273       0.782485  1.550930\n",
       "\n",
       "[143 rows x 3 columns]"
      ]
     },
     "execution_count": 58,
     "metadata": {},
     "output_type": "execute_result"
    }
   ],
   "source": [
    "comparison"
   ]
  },
  {
   "cell_type": "code",
   "execution_count": null,
   "outputs": [],
   "source": [
    "You can check the model that was the output of HPO should be better (less error) than the one with default parameters!"
   ],
   "metadata": {
    "collapsed": false,
    "pycharm": {
     "name": "#%% md \n"
    }
   }
  },
  {
   "cell_type": "code",
   "execution_count": 59,
   "id": "05726ee1",
   "metadata": {},
   "outputs": [
    {
     "name": "stdout",
     "output_type": "stream",
     "text": [
      "RMSE for model 1 is 60.6976674528303 and for model 2 is 53.99994625993155\n"
     ]
    }
   ],
   "source": [
    "# Calculate the RMSE for both models and compare them!\n",
    "error_1 = None # Fillme\n",
    "error_2 = None # Fillme\n",
    "\n",
    "print(f'RMSE for model 1 is {error_1} and for model 2 is {error_2}')"
   ]
  },
  {
   "cell_type": "code",
   "execution_count": null,
   "id": "87e60c9e",
   "metadata": {},
   "outputs": [],
   "source": []
  }
 ],
 "metadata": {
  "kernelspec": {
   "display_name": "conda_tensorflow_p36",
   "language": "python",
   "name": "conda_tensorflow_p36"
  },
  "language_info": {
   "codemirror_mode": {
    "name": "ipython",
    "version": 3
   },
   "file_extension": ".py",
   "mimetype": "text/x-python",
   "name": "python",
   "nbconvert_exporter": "python",
   "pygments_lexer": "ipython3",
   "version": "3.6.13"
  }
 },
 "nbformat": 4,
 "nbformat_minor": 5
}